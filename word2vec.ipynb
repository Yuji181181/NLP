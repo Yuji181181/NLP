{
 "cells": [
  {
   "cell_type": "code",
   "execution_count": 3,
   "metadata": {
    "colab": {
     "base_uri": "https://localhost:8080/",
     "height": 17
    },
    "executionInfo": {
     "elapsed": 32,
     "status": "ok",
     "timestamp": 1712213274270,
     "user": {
      "displayName": "diffusion stable",
      "userId": "01050257838118631634"
     },
     "user_tz": -540
    },
    "id": "9I1HAQyk2IaY",
    "outputId": "385bf7ff-23b5-4883-c566-1e452df0f985"
   },
   "outputs": [],
   "source": [
    "import random\n",
    "import torch\n",
    "import torch.nn as nn\n",
    "import torch.optim as optim\n",
    "from whiteGPT import word2vec\n",
    "from whiteGPT import CBOW\n",
    "from whiteGPT import Vocab"
   ]
  },
  {
   "cell_type": "code",
   "execution_count": 4,
   "metadata": {
    "colab": {
     "base_uri": "https://localhost:8080/",
     "height": 17
    },
    "executionInfo": {
     "elapsed": 30,
     "status": "ok",
     "timestamp": 1712213274270,
     "user": {
      "displayName": "diffusion stable",
      "userId": "01050257838118631634"
     },
     "user_tz": -540
    },
    "id": "cF62eOmUfzg_",
    "outputId": "cac97d65-93b5-4f80-97c6-68e0359bf9cd"
   },
   "outputs": [
    {
     "data": {
      "text/html": [
       "\n",
       "  <style>\n",
       "    pre {\n",
       "        white-space: pre-wrap;\n",
       "    }\n",
       "  </style>\n",
       "  "
      ],
      "text/plain": [
       "<IPython.core.display.HTML object>"
      ]
     },
     "metadata": {},
     "output_type": "display_data"
    }
   ],
   "source": [
    "corpus_list = [\n",
    "    \"this animal is cat.\",\n",
    "    \"the quick brown fox jumps over the lazy dog.\",\n",
    "    \"dog and cat are animal.\",\n",
    "    \"I love dogs and cats.\",\n",
    "    \"the dog sat on the rug.\",\n",
    "    \"cats are independent animals. \",\n",
    "    \"foxes are wild animals.\",\n",
    "    \"The cat prowled through the moonlit garden.\",\n",
    "    \"Dogs eagerly awaited their owner's return at the doorstep.\",\n",
    "    \"A cat's purr filled the room with comfort.\",\n",
    "    \"The dog wagged its tail in excitement.\",\n",
    "    \"Cats gracefully leaped from rooftop to rooftop.\",\n",
    "\n",
    "    \"Walking down the street, I spotted a stray dog searching for scraps.\",\n",
    "    \"The cat stretched lazily in the warmth of the sunbeam.\",\n",
    "    \"Dogs barked joyfully in the park.\",\n",
    "    \"A sleek black cat slinked along the fence.\",\n",
    "    \"The old dog snoozed contentedly by the fireplace.\",\n",
    "    \"Cats darted through the alleyways, chasing shadows.\",\n",
    "    \"A fluffy white cat napped peacefully on the windowsill.\",\n",
    "\n",
    "    \"Dogs are furry friends who love to play fetch and cuddle with you.\",\n",
    "    \"Cats are soft and independent pets that enjoy lounging in sunny spots.\",\n",
    "    \"Dogs wag their tails when they're happy and bark to say hello.\",\n",
    "    \"Cats purr when they're content and love to curl up in your lap.\",\n",
    "\n",
    "    \"Fido loves going for car rides, he always sticks his head out the window with a goofy grin.\",\n",
    "    \"the old dog hobbled over to greet us, his tail thumping gently against the floor.\",\n",
    "    \"the cat perched regally on the windowsill, surveying its outdoor kingdom. \",\n",
    "    \"the cat stalked a dust bunny across the floor, pouncing with laser focus. \",\n",
    "    \"the neighbor's cat, notorious for its thievery, snuck into our yard and made off with a shiny red ball of yarn. \",\n",
    "    \"curled up with a good book, I felt a soft nudge – my cat, wanting some attention, was rubbing against my leg. \",\n",
    "    \"the therapy dog, with its gentle demeanor, brought a wave of calm to the anxious patients in the waiting room.\",\n",
    "    \"despite their different personalities, the dog and cat often napped curled up together. \",\n",
    "    \"we need to buy more cat food, Whiskers seems to be inhaling everything in the bow. \",\n",
    "    \"despite being a scaredy cat, Luna the ginger bravely explored every corner of the new house. \",\n",
    "    \"Max the dog spent all afternoon digging a hole in the backyard, much to the gardener's dismay. \",\n",
    "    \"the smell of freshly baked cookies lured the cat out from its hiding spot. \",\n",
    "    \"during thunderstorms, Milo the dog would huddle under the bed, trembling uncontrollably. \",\n",
    "    \"we adopted a pair of playful kittens, and now our living room is a whirlwind of fur and feathery toys. \",\n",
    "    \"every morning, the rooster crows and the dog barks, creating a chaotic symphony to wake up the household. \"\n",
    "]\n",
    "\n",
    "test_corpus_list = [\n",
    "    \"this animal is dog \",\n",
    "    \"the old cat hobbled \",\n",
    "    \"the dog perched regally \",\n",
    "    \"quick brown cat jumps \",\n",
    "    \"cat and dog often \",\n",
    "    \"the dog out from \",\n",
    "    \"Fido the cat would \",\n",
    "    \"Luna the cat spent \",\n",
    "    \"neighbor's dog \",\n",
    "    \"cat stalked a dust \",\n",
    "    \"buy more cat food\",\n",
    "    \"cat and the dog barks\",\n",
    "]"
   ]
  },
  {
   "cell_type": "markdown",
   "metadata": {
    "id": "2t8wyIIW2vhN"
   },
   "source": [
    "### CBOWモデル"
   ]
  },
  {
   "cell_type": "code",
   "execution_count": 5,
   "metadata": {
    "cellView": "form",
    "colab": {
     "base_uri": "https://localhost:8080/",
     "height": 17
    },
    "executionInfo": {
     "elapsed": 28,
     "status": "ok",
     "timestamp": 1712213274271,
     "user": {
      "displayName": "diffusion stable",
      "userId": "01050257838118631634"
     },
     "user_tz": -540
    },
    "id": "9xGDByxwa4cW",
    "outputId": "931ee6d1-20c7-4291-a046-1d1b7b884368"
   },
   "outputs": [
    {
     "data": {
      "text/html": [
       "\n",
       "  <style>\n",
       "    pre {\n",
       "        white-space: pre-wrap;\n",
       "    }\n",
       "  </style>\n",
       "  "
      ],
      "text/plain": [
       "<IPython.core.display.HTML object>"
      ]
     },
     "metadata": {},
     "output_type": "display_data"
    }
   ],
   "source": [
    "embedding_dim = 16\n",
    "num_epoch = 300\n",
    "learning_rate = 0.001\n",
    "window_size = 3"
   ]
  },
  {
   "cell_type": "code",
   "execution_count": 6,
   "metadata": {
    "colab": {
     "base_uri": "https://localhost:8080/",
     "height": 17
    },
    "executionInfo": {
     "elapsed": 26,
     "status": "ok",
     "timestamp": 1712213274271,
     "user": {
      "displayName": "diffusion stable",
      "userId": "01050257838118631634"
     },
     "user_tz": -540
    },
    "id": "b5Qdw9jWJK7y",
    "outputId": "1d4f0c3f-b85e-40ea-a7d9-9c4f5cf4d25f"
   },
   "outputs": [
    {
     "data": {
      "text/html": [
       "\n",
       "  <style>\n",
       "    pre {\n",
       "        white-space: pre-wrap;\n",
       "    }\n",
       "  </style>\n",
       "  "
      ],
      "text/plain": [
       "<IPython.core.display.HTML object>"
      ]
     },
     "metadata": {},
     "output_type": "display_data"
    }
   ],
   "source": [
    "## インスタンス化と前処理\n",
    "train_corpus = word2vec.modify(corpus_list, window_size)\n",
    "\n",
    "vocab = Vocab(train_corpus)\n",
    "train_dataset = word2vec.TextDataset(vocab, train_corpus, window_size)\n",
    "train_dataloader = word2vec.DataLoader(train_dataset, batch_size=4, shuffle=True)\n",
    "test_dataset = word2vec.TextDataset(vocab, '', window_size)\n",
    "test_dataset.test_corpus(test_corpus_list)\n",
    "\n",
    "criterion = nn.CrossEntropyLoss()\n",
    "model = word2vec.CBOW(vocab.vocab_size, embedding_dim)\n",
    "optimizer = optim.Adam(model.parameters(), lr=learning_rate)"
   ]
  },
  {
   "cell_type": "code",
   "execution_count": 8,
   "metadata": {
    "colab": {
     "base_uri": "https://localhost:8080/",
     "height": 35
    },
    "executionInfo": {
     "elapsed": 26,
     "status": "ok",
     "timestamp": 1712213274272,
     "user": {
      "displayName": "diffusion stable",
      "userId": "01050257838118631634"
     },
     "user_tz": -540
    },
    "id": "yZXJjqD61Q3g",
    "outputId": "09c4e4b6-c3d8-4b2d-a08f-1c26b7d6761e"
   },
   "outputs": [
    {
     "data": {
      "text/html": [
       "\n",
       "  <style>\n",
       "    pre {\n",
       "        white-space: pre-wrap;\n",
       "    }\n",
       "  </style>\n",
       "  "
      ],
      "text/plain": [
       "<IPython.core.display.HTML object>"
      ]
     },
     "metadata": {},
     "output_type": "display_data"
    },
    {
     "name": "stdout",
     "output_type": "stream",
     "text": [
      "267\n"
     ]
    }
   ],
   "source": [
    "print(vocab.vocab_size)"
   ]
  },
  {
   "cell_type": "code",
   "execution_count": 9,
   "metadata": {
    "colab": {
     "base_uri": "https://localhost:8080/",
     "height": 108
    },
    "executionInfo": {
     "elapsed": 24,
     "status": "ok",
     "timestamp": 1712213274272,
     "user": {
      "displayName": "diffusion stable",
      "userId": "01050257838118631634"
     },
     "user_tz": -540
    },
    "id": "rCE9-83LwNAh",
    "outputId": "aecaf271-2662-4a2a-8320-e11ea1f91708"
   },
   "outputs": [
    {
     "data": {
      "text/html": [
       "\n",
       "  <style>\n",
       "    pre {\n",
       "        white-space: pre-wrap;\n",
       "    }\n",
       "  </style>\n",
       "  "
      ],
      "text/plain": [
       "<IPython.core.display.HTML object>"
      ]
     },
     "metadata": {},
     "output_type": "display_data"
    },
    {
     "data": {
      "text/plain": [
       "{'source': tensor([[  0,   0,   0],\n",
       "         [  0,   0,   0],\n",
       "         [203,  18, 225],\n",
       "         [ 22,   8,   0]]),\n",
       " 'target': tensor([ 0,  0, 82,  0])}"
      ]
     },
     "execution_count": 9,
     "metadata": {},
     "output_type": "execute_result"
    }
   ],
   "source": [
    "train_iter = iter(train_dataloader)\n",
    "next(train_iter)"
   ]
  },
  {
   "cell_type": "code",
   "execution_count": 10,
   "metadata": {
    "cellView": "form",
    "colab": {
     "base_uri": "https://localhost:8080/",
     "height": 1000
    },
    "executionInfo": {
     "elapsed": 79105,
     "status": "ok",
     "timestamp": 1712213353355,
     "user": {
      "displayName": "diffusion stable",
      "userId": "01050257838118631634"
     },
     "user_tz": -540
    },
    "id": "T65y90Omr3_2",
    "outputId": "e48c698f-940d-44e9-bff0-d5eb71d0c23b"
   },
   "outputs": [
    {
     "data": {
      "text/html": [
       "\n",
       "  <style>\n",
       "    pre {\n",
       "        white-space: pre-wrap;\n",
       "    }\n",
       "  </style>\n",
       "  "
      ],
      "text/plain": [
       "<IPython.core.display.HTML object>"
      ]
     },
     "metadata": {},
     "output_type": "display_data"
    },
    {
     "name": "stdout",
     "output_type": "stream",
     "text": [
      "Epoch 0, Loss: 5.0240\n",
      "the dog perched : regally : eagerly\n",
      "Epoch 10, Loss: 2.7619\n",
      "neighbor ' s : dog : the\n",
      "Epoch 20, Loss: 2.2051\n",
      "the dog perched : regally : .\n",
      "Epoch 30, Loss: 1.7555\n",
      "luna the cat : spent : ,\n",
      "Epoch 40, Loss: 1.3978\n",
      "the old cat : hobbled : snoozed\n",
      "Epoch 50, Loss: 1.1200\n",
      "and the dog : barks : ,\n",
      "Epoch 60, Loss: 0.9119\n",
      "cat and dog : often : often\n",
      "Epoch 70, Loss: 0.7527\n",
      "luna the cat : spent : ,\n",
      "Epoch 80, Loss: 0.6345\n",
      "the dog perched : regally : regally\n",
      "Epoch 90, Loss: 0.5477\n",
      "quick brown cat : jumps : jumps\n",
      "Epoch 100, Loss: 0.4828\n",
      "the dog perched : regally : regally\n",
      "Epoch 110, Loss: 0.4341\n",
      "and the dog : barks : cat\n",
      "Epoch 120, Loss: 0.4009\n",
      "the old cat : hobbled : snoozed\n",
      "Epoch 130, Loss: 0.3764\n",
      "fido the cat : would : for\n",
      "Epoch 140, Loss: 0.3580\n",
      "the dog out : from : would\n",
      "Epoch 150, Loss: 0.3461\n",
      "quick brown cat : jumps : jumps\n",
      "Epoch 160, Loss: 0.3359\n",
      "neighbor ' s : dog : cat\n",
      "Epoch 170, Loss: 0.3311\n",
      "the dog perched : regally : and\n",
      "Epoch 180, Loss: 0.3247\n",
      "fido the cat : would : for\n",
      "Epoch 190, Loss: 0.3218\n",
      "buy more cat : food : food\n",
      "Epoch 200, Loss: 0.3189\n",
      "buy more cat : food : food\n",
      "Epoch 210, Loss: 0.3173\n",
      "the dog perched : regally : and\n",
      "Epoch 220, Loss: 0.3151\n",
      "neighbor ' s : dog : cat\n",
      "Epoch 230, Loss: 0.3138\n",
      "neighbor ' s : dog : cat\n",
      "Epoch 240, Loss: 0.3133\n",
      "and the dog : barks : cat\n",
      "Epoch 250, Loss: 0.3123\n",
      "quick brown cat : jumps : jumps\n",
      "Epoch 260, Loss: 0.3117\n",
      "cat and dog : often : often\n",
      "Epoch 270, Loss: 0.3117\n",
      "this animal is : dog : cat\n",
      "Epoch 280, Loss: 0.3105\n",
      "cat stalked a : dust : dust\n",
      "Epoch 290, Loss: 0.3102\n",
      "quick brown cat : jumps : jumps\n"
     ]
    }
   ],
   "source": [
    "## 学習ループ\n",
    "for epoch in range(num_epoch):\n",
    "    total_loss = 0\n",
    "    running_loss = 0.0\n",
    "    for batch in train_dataloader:\n",
    "\n",
    "        # 入力データと教師データの取得\n",
    "        context_indices, target_index = batch['source'], batch['target']\n",
    "        # 推論\n",
    "        output = model(context_indices)\n",
    "        # 損失計算\n",
    "        loss = criterion(output, target_index)\n",
    "\n",
    "        # 勾配の初期化\n",
    "        optimizer.zero_grad()\n",
    "        # 勾配の計算\n",
    "        loss.backward()\n",
    "        # 学習パラメータ（重み）の更新\n",
    "        optimizer.step()\n",
    "        # 損失の累計\n",
    "        running_loss += loss.item()\n",
    "\n",
    "    # 損失の平均\n",
    "    total_loss = running_loss / len(train_dataloader)\n",
    "\n",
    "    # n回に一度の処理\n",
    "    if epoch % 10 == 0:\n",
    "        # ログの出力\n",
    "        print(f'Epoch {epoch}, Loss: {total_loss:.4f}')\n",
    "        # テスト\n",
    "        test_dataset.test(model)"
   ]
  },
  {
   "cell_type": "markdown",
   "metadata": {
    "id": "vBQv8KR8jBsd"
   },
   "source": [
    "### 予測"
   ]
  },
  {
   "cell_type": "code",
   "execution_count": 21,
   "metadata": {
    "colab": {
     "base_uri": "https://localhost:8080/",
     "height": 35
    },
    "executionInfo": {
     "elapsed": 64,
     "status": "ok",
     "timestamp": 1712213353356,
     "user": {
      "displayName": "diffusion stable",
      "userId": "01050257838118631634"
     },
     "user_tz": -540
    },
    "id": "M_0m6ngcnJv3",
    "outputId": "9bf4d2ae-98d3-4173-e0bc-97411b76a442"
   },
   "outputs": [
    {
     "data": {
      "text/html": [
       "\n",
       "  <style>\n",
       "    pre {\n",
       "        white-space: pre-wrap;\n",
       "    }\n",
       "  </style>\n",
       "  "
      ],
      "text/plain": [
       "<IPython.core.display.HTML object>"
      ]
     },
     "metadata": {},
     "output_type": "display_data"
    },
    {
     "name": "stdout",
     "output_type": "stream",
     "text": [
      "cat stalked a : dust : dust\n"
     ]
    },
    {
     "data": {
      "text/plain": [
       "Parameter containing:\n",
       "tensor([[ 0.4541,  0.6885, -0.5250,  ...,  0.0195, -0.1688, -1.5878],\n",
       "        [ 0.6066,  0.2463,  0.6090,  ...,  1.2772, -0.5622,  0.6622],\n",
       "        [-0.5138,  0.1587, -0.9021,  ...,  0.2716, -0.5239,  0.7931],\n",
       "        ...,\n",
       "        [ 3.5551, -2.0100, -1.3904,  ..., -2.0147, -3.9390, -2.1982],\n",
       "        [-1.1596,  1.7805, -4.9148,  ..., -3.6662, -3.8871,  1.0931],\n",
       "        [-1.6684, -0.4187,  0.3246,  ...,  4.3551, -3.6439, -1.3612]],\n",
       "       requires_grad=True)"
      ]
     },
     "execution_count": 21,
     "metadata": {},
     "output_type": "execute_result"
    }
   ],
   "source": [
    "test_dataset.test(model) ## 次単語予測\n",
    "model.embeddings.weight ## 重み"
   ]
  }
 ],
 "metadata": {
  "colab": {
   "authorship_tag": "ABX9TyMQBuqYgTl2BEPaD0sYWKIS",
   "provenance": []
  },
  "kernelspec": {
   "display_name": "ds2024",
   "language": "python",
   "name": "python3"
  },
  "language_info": {
   "codemirror_mode": {
    "name": "ipython",
    "version": 3
   },
   "file_extension": ".py",
   "mimetype": "text/x-python",
   "name": "python",
   "nbconvert_exporter": "python",
   "pygments_lexer": "ipython3",
   "version": "3.9.15"
  }
 },
 "nbformat": 4,
 "nbformat_minor": 0
}
